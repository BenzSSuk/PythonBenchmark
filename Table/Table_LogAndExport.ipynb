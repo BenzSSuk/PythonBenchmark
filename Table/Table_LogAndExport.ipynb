{
 "metadata": {
  "language_info": {
   "codemirror_mode": {
    "name": "ipython",
    "version": 3
   },
   "file_extension": ".py",
   "mimetype": "text/x-python",
   "name": "python",
   "nbconvert_exporter": "python",
   "pygments_lexer": "ipython3",
   "version": "3.8.5"
  },
  "orig_nbformat": 4,
  "kernelspec": {
   "name": "python3",
   "display_name": "Python 3.8.5 64-bit ('base': conda)"
  },
  "interpreter": {
   "hash": "bff1cee1ee17e50bd1533da8f75a954f8b51e7ae4f4bd6e79b906fcc73d3b969"
  }
 },
 "nbformat": 4,
 "nbformat_minor": 2,
 "cells": [
  {
   "cell_type": "code",
   "execution_count": 2,
   "metadata": {},
   "outputs": [],
   "source": [
    "import pandas as pd\n",
    "import numpy as np\n",
    "import time"
   ]
  },
  {
   "cell_type": "code",
   "execution_count": 39,
   "metadata": {},
   "outputs": [
    {
     "output_type": "stream",
     "name": "stdout",
     "text": [
      "           a     b        c        d\n0       asdf  asdf  12.4546  12.4546\n1       asdf  asdf  12.4546  12.4546\n2       asdf  asdf  12.4546  12.4546\n3       asdf  asdf  12.4546  12.4546\n4       asdf  asdf  12.4546  12.4546\n...      ...   ...      ...      ...\n999995  asdf  asdf  12.4546  12.4546\n999996  asdf  asdf  12.4546  12.4546\n999997  asdf  asdf  12.4546  12.4546\n999998  asdf  asdf  12.4546  12.4546\n999999  asdf  asdf  12.4546  12.4546\n\n[1000000 rows x 4 columns]\n           a     b        c        d\n0       asdf  asdf  123.456  123.456\n1       asdf  asdf  123.456  123.456\n2       asdf  asdf  123.456  123.456\n3       asdf  asdf  123.456  123.456\n4       asdf  asdf  123.456  123.456\n...      ...   ...      ...      ...\n999995  asdf  asdf  123.456  123.456\n999996  asdf  asdf  123.456  123.456\n999997  asdf  asdf  123.456  123.456\n999998  asdf  asdf  123.456  123.456\n999999  asdf  asdf  123.456  123.456\n\n[1000000 rows x 4 columns]\ntm1:0.6461476999998013, tm2:1.483148600000277\n"
     ]
    }
   ],
   "source": [
    "# Dict and pd at end\n",
    "nIte = 1000000\n",
    "\n",
    "# ----- Preallocate dict and key before logging ----- \n",
    "t1 = time.perf_counter()\n",
    "listFeature = []\n",
    "dictA = {'a':[],'b':[],'c':[],'d':[]}\n",
    "for i in range(nIte):\n",
    "    dictA['a'].append('asdf')\n",
    "    dictA['b'].append('asdf')\n",
    "    dictA['c'].append(12.4546)\n",
    "    dictA['d'].append(12.4546)\n",
    "dfA = pd.DataFrame(dictA)\n",
    "t2 = time.perf_counter()\n",
    "tm1 = t2-t1\n",
    "\n",
    "\n",
    "# ----- Just declare dict, automatic add key in loop for more convinence -----\n",
    "def addFeatures(dictFeature,nameFeature,valFeature):\n",
    "    if nameFeature in dictFeature.keys():\n",
    "        # already create header of this feature, just append it.\n",
    "        dictFeature[nameFeature].append(valFeature)\n",
    "\n",
    "    else:\n",
    "        # found new feature name, create new dict.\n",
    "        dictFeatureNew = {nameFeature:[]}\n",
    "        dictFeatureNew[nameFeature].append(valFeature)\n",
    "        dictFeature.update(dictFeatureNew)\n",
    "\n",
    "    return dictFeature\n",
    "\n",
    "t1 = time.perf_counter()\n",
    "# listFeature = []\n",
    "# stringBuff = [None] * nIte\n",
    "# zerosBuff = np.zeros((nIte))\n",
    "dictFeats = {}\n",
    "# dictA = {'a':stringBuff,'b':stringBuff,'c':zerosBuff,'d':zerosBuff}\n",
    "countWin = 0\n",
    "for i in range(nIte):\n",
    "    # some time user not start loop from zero\n",
    "    countWin = countWin + 1\n",
    "\n",
    "    # ----- Extract Feature -----\n",
    "    dictFeats = addFeatures(dictFeats,'a','asdf')\n",
    "\n",
    "    dictFeats = addFeatures(dictFeats,'b','asdf')\n",
    "\n",
    "    dictFeats = addFeatures(dictFeats,'c',123.456)\n",
    "\n",
    "    dictFeats = addFeatures(dictFeats,'d',123.456)\n",
    "\n",
    "    # ----- Concat row of feature -----\n",
    "\n",
    "dfFeats = pd.DataFrame(dictFeats)\n",
    "t2 = time.perf_counter()\n",
    "tm2 = t2-t1\n",
    "\n",
    "print(dfA)\n",
    "print(dfA2)\n",
    "print(f'tm1:{tm1}, tm2:{tm2}')\n",
    "# Intel i7-9700KF,3.6 GHz, 8 core/16 Threads\n",
    "# 0.6, 1.2 sec "
   ]
  }
 ]
}